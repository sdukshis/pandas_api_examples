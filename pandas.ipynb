{
 "cells": [
  {
   "cell_type": "code",
   "execution_count": null,
   "metadata": {},
   "outputs": [],
   "source": [
    "import pandas as pd\n",
    "import tqdm.notebook as tqdm\n",
    "from pandarallel import pandarallel"
   ]
  },
  {
   "cell_type": "code",
   "execution_count": null,
   "metadata": {},
   "outputs": [],
   "source": [
    "import glob\n",
    "\n",
    "rankings = pd.concat(\n",
    "    (pd.read_csv(\n",
    "        path,\n",
    "        header=None,\n",
    "        names=[\"pageURL\", \"pageRank\", \"avgDuration\"],\n",
    "    )\n",
    "    for path in glob.glob(\"data/AMPLab/1node/rankings/*.csv\")),\n",
    "    axis=0,\n",
    "    ignore_index=True, \n",
    ")"
   ]
  },
  {
   "cell_type": "code",
   "execution_count": null,
   "metadata": {},
   "outputs": [],
   "source": [
    "rankings.info()"
   ]
  },
  {
   "cell_type": "code",
   "execution_count": null,
   "metadata": {},
   "outputs": [],
   "source": [
    "query_1 = rankings.loc[rankings.pageRank > 100]\n",
    "len(query_1)"
   ]
  },
  {
   "cell_type": "code",
   "execution_count": null,
   "metadata": {},
   "outputs": [],
   "source": [
    "uservisits = pd.concat(\n",
    "    (pd.read_csv(\n",
    "        path,\n",
    "        header=None,\n",
    "        names=[\"sourceIP\", \"destinationURL\", \"visitDate\", \"adRevenue\", \"UserAgent\", \"cCode\", \"lCode\", \"searchWord\", \"duration\"],\n",
    "        parse_dates=[\"visitDate\"],\n",
    "    )\n",
    "    for path in glob.glob(\"data/AMPLab/1node/uservisits/*.csv\")[:200]),\n",
    "    axis=0,\n",
    "    ignore_index=True, \n",
    ")"
   ]
  },
  {
   "cell_type": "code",
   "execution_count": null,
   "metadata": {},
   "outputs": [],
   "source": [
    "%%time\n",
    "query_2 = (\n",
    "uservisits\n",
    "    .groupby(uservisits.sourceIP.str.slice(0, 7))\n",
    "    .adRevenue\n",
    "    .sum()\n",
    ")\n",
    "query_2"
   ]
  },
  {
   "cell_type": "code",
   "execution_count": null,
   "metadata": {},
   "outputs": [],
   "source": [
    "pandarallel.initialize(progress_bar=True)"
   ]
  },
  {
   "cell_type": "code",
   "execution_count": null,
   "metadata": {},
   "outputs": [],
   "source": [
    "%%time\n",
    "\n",
    "query_2 = (\n",
    "uservisits\n",
    "    .parallel_groupby(uservisits.sourceIP.str.slice(0, 7))\n",
    "    .adRevenue\n",
    "    .sum()\n",
    ")\n",
    "query_2"
   ]
  },
  {
   "cell_type": "code",
   "execution_count": null,
   "metadata": {},
   "outputs": [],
   "source": [
    "(rankings\n",
    "    .merge(uservisits, left_on=\"pageURL\", right_on=\"destinationURL\", how=\"left\")\n",
    "    .query(\"visitDate > '1980-01-01' and visitDate < '1980-04-01'\")\n",
    ")"
   ]
  },
  {
   "cell_type": "code",
   "execution_count": null,
   "metadata": {},
   "outputs": [],
   "source": [
    "query_3 = (\n",
    "rankings\n",
    "    .merge(uservisits, left_on=\"pageURL\", right_on=\"destinationURL\", how=\"left\")\n",
    "    .query(\"visitDate > '1980-01-01' and visitDate < '1980-04-01'\")\n",
    "    .groupby(\"sourceIP\")\n",
    "    .agg({\"pageRank\": \"mean\", \"adRevenue\": \"sum\"})\n",
    "    .sort_values(\"adRevenue\", ascending=False)\n",
    "    .head(10)\n",
    ")\n",
    "query_3"
   ]
  },
  {
   "cell_type": "code",
   "execution_count": null,
   "metadata": {},
   "outputs": [],
   "source": [
    "crawl = pd.concat(\n",
    "    (pd.read_table(\n",
    "        path,\n",
    "        sep=\"dasdsadsa\",\n",
    "        header=None,\n",
    "        engine=\"python\",\n",
    "        names=[\"pageSource\"],\n",
    "    )\n",
    "    for path in glob.glob(\"data/AMPLab/tiny/crawl/*.csv\")),\n",
    "    axis=0,\n",
    "    ignore_index=True, \n",
    ")"
   ]
  },
  {
   "cell_type": "code",
   "execution_count": null,
   "metadata": {},
   "outputs": [],
   "source": [
    "import re\n",
    "url_regex = re.compile(\"(?P<url>https?://[^\\s]+)\")\n",
    "\n",
    "def extract_url(line):\n",
    "    match = url_regex.search(line)\n",
    "    if match:\n",
    "        return match.group(\"url\")\n",
    "    else:\n",
    "        return None\n",
    "crawl[\"destPage\"] = crawl.pageSource.apply(extract_url)"
   ]
  },
  {
   "cell_type": "code",
   "execution_count": null,
   "metadata": {},
   "outputs": [],
   "source": [
    "(crawl\n",
    "    .pageSource\n",
    "    .parallel_apply(extract_url)\n",
    "    .value_counts()\n",
    ") "
   ]
  },
  {
   "cell_type": "code",
   "execution_count": null,
   "metadata": {},
   "outputs": [],
   "source": [
    "(crawl\n",
    "    .groupby(\"destPage\", as_index=False)\n",
    "    .size()\n",
    "    .sort_values(\"size\", ascending=False)\n",
    ")"
   ]
  },
  {
   "cell_type": "code",
   "execution_count": null,
   "metadata": {},
   "outputs": [],
   "source": []
  }
 ],
 "metadata": {
  "kernelspec": {
   "display_name": "Python 3.10.2 ('.venv': venv)",
   "language": "python",
   "name": "python3"
  },
  "language_info": {
   "codemirror_mode": {
    "name": "ipython",
    "version": 3
   },
   "file_extension": ".py",
   "mimetype": "text/x-python",
   "name": "python",
   "nbconvert_exporter": "python",
   "pygments_lexer": "ipython3",
   "version": "3.10.6"
  },
  "orig_nbformat": 4,
  "vscode": {
   "interpreter": {
    "hash": "6aceeae404724938feb16c7fd05a82c5682315be0779b7392a4f1d0a8eadc933"
   }
  }
 },
 "nbformat": 4,
 "nbformat_minor": 2
}
