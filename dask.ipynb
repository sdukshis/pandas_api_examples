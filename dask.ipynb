{
 "cells": [
  {
   "cell_type": "code",
   "execution_count": 1,
   "metadata": {},
   "outputs": [],
   "source": [
    "import dask\n",
    "import numpy as np"
   ]
  },
  {
   "cell_type": "code",
   "execution_count": 2,
   "metadata": {},
   "outputs": [],
   "source": [
    "# from dask.distributed import Client\n",
    "\n",
    "# client = Client(n_workers=8)\n",
    "# client"
   ]
  },
  {
   "cell_type": "code",
   "execution_count": 3,
   "metadata": {},
   "outputs": [
    {
     "name": "stdout",
     "output_type": "stream",
     "text": [
      "<class 'dask.dataframe.core.DataFrame'>\n",
      "Columns: 3 entries, pageURL to avgDuration\n",
      "dtypes: object(1), int64(2)"
     ]
    }
   ],
   "source": [
    "import dask.dataframe as dd\n",
    "\n",
    "rankings = dd.read_csv(\n",
    "    \"data/AMPLab/1node/rankings/*.csv\",\n",
    "    header=None,\n",
    "    names=[\"pageURL\", \"pageRank\", \"avgDuration\"],\n",
    ")\n",
    "rankings.info()"
   ]
  },
  {
   "cell_type": "code",
   "execution_count": 4,
   "metadata": {},
   "outputs": [
    {
     "name": "stdout",
     "output_type": "stream",
     "text": [
      "CPU times: user 17.9 s, sys: 3.06 s, total: 21 s\n",
      "Wall time: 16.8 s\n"
     ]
    },
    {
     "data": {
      "text/plain": [
       "6552"
      ]
     },
     "execution_count": 4,
     "metadata": {},
     "output_type": "execute_result"
    }
   ],
   "source": [
    "%%time\n",
    "query_1 = rankings[rankings.pageRank > 1000]\n",
    "len(query_1)"
   ]
  },
  {
   "cell_type": "code",
   "execution_count": 4,
   "metadata": {},
   "outputs": [
    {
     "name": "stdout",
     "output_type": "stream",
     "text": [
      "<class 'dask.dataframe.core.DataFrame'>\n",
      "Columns: 9 entries, sourceIP to duration\n",
      "dtypes: datetime64[ns](1), object(6), float64(1), int64(1)"
     ]
    }
   ],
   "source": [
    "uservisits = dd.read_csv(\n",
    "    \"data/AMPLab/1node/uservisits/*.csv\",\n",
    "    header=None,\n",
    "    names=[\"sourceIP\", \"destinationURL\", \"visitDate\", \"adRevenue\", \"UserAgent\", \"cCode\", \"lCode\", \"searchWord\", \"duration\"],\n",
    "    parse_dates=[\"visitDate\"],\n",
    ")\n",
    "uservisits.info()"
   ]
  },
  {
   "cell_type": "code",
   "execution_count": 6,
   "metadata": {},
   "outputs": [
    {
     "name": "stdout",
     "output_type": "stream",
     "text": [
      "CPU times: user 8min 50s, sys: 37.8 s, total: 9min 28s\n",
      "Wall time: 6min 30s\n"
     ]
    },
    {
     "data": {
      "text/plain": [
       "sourceIP\n",
       "1.0.129    4.167757\n",
       "1.0.133    7.449813\n",
       "1.0.163    2.376591\n",
       "1.0.173    7.524194\n",
       "1.0.196    3.103560\n",
       "             ...   \n",
       "7.0.4.9    0.336308\n",
       "1.7.3.5    0.018638\n",
       "1.8.7.4    0.662783\n",
       "2.7.0.7    0.550923\n",
       "3.4.4.9    0.768892\n",
       "Name: adRevenue, Length: 359235, dtype: float64"
      ]
     },
     "execution_count": 6,
     "metadata": {},
     "output_type": "execute_result"
    }
   ],
   "source": [
    "%%time\n",
    "query_2 = (\n",
    "    uservisits\n",
    "        .groupby(uservisits.sourceIP.str.slice(0, 7))\n",
    "        .adRevenue\n",
    "        .sum()\n",
    ")\n",
    "query_2.compute()"
   ]
  },
  {
   "cell_type": "code",
   "execution_count": 5,
   "metadata": {},
   "outputs": [
    {
     "name": "stderr",
     "output_type": "stream",
     "text": [
      "ignoring exception in ensure_cleanup_on_exception\n",
      "Traceback (most recent call last):\n",
      "  File \"/home/filonov/playground/dask/.venv/lib/python3.10/site-packages/dask/dataframe/shuffle.py\", line 953, in ensure_cleanup_on_exception\n",
      "    yield\n",
      "  File \"/home/filonov/playground/dask/.venv/lib/python3.10/site-packages/dask/dataframe/shuffle.py\", line 968, in shuffle_group_3\n",
      "    p.append(d, fsync=True)\n",
      "  File \"/home/filonov/playground/dask/.venv/lib/python3.10/site-packages/partd/encode.py\", line 25, in append\n",
      "    self.partd.append(data, **kwargs)\n",
      "  File \"/home/filonov/playground/dask/.venv/lib/python3.10/site-packages/partd/buffer.py\", line 45, in append\n",
      "    self.flush(keys)\n",
      "  File \"/home/filonov/playground/dask/.venv/lib/python3.10/site-packages/partd/buffer.py\", line 99, in flush\n",
      "    self.slow.append(dict(zip(keys, self.fast.get(keys))))\n",
      "  File \"/home/filonov/playground/dask/.venv/lib/python3.10/site-packages/partd/file.py\", line 42, in append\n",
      "    f.write(v)\n",
      "OSError: [Errno 28] No space left on device\n",
      "\n",
      "During handling of the above exception, another exception occurred:\n",
      "\n",
      "Traceback (most recent call last):\n",
      "  File \"/home/filonov/playground/dask/.venv/lib/python3.10/site-packages/dask/dataframe/shuffle.py\", line 958, in ensure_cleanup_on_exception\n",
      "    p.drop()\n",
      "  File \"/home/filonov/playground/dask/.venv/lib/python3.10/site-packages/partd/encode.py\", line 39, in drop\n",
      "    return self.partd.drop()\n",
      "  File \"/home/filonov/playground/dask/.venv/lib/python3.10/site-packages/partd/buffer.py\", line 78, in drop\n",
      "    self.slow.drop()\n",
      "  File \"/home/filonov/playground/dask/.venv/lib/python3.10/site-packages/partd/file.py\", line 93, in drop\n",
      "    shutil.rmtree(self.path)\n",
      "  File \"/usr/lib/python3.10/shutil.py\", line 724, in rmtree\n",
      "    _rmtree_safe_fd(fd, path, onerror)\n",
      "  File \"/usr/lib/python3.10/shutil.py\", line 680, in _rmtree_safe_fd\n",
      "    onerror(os.unlink, fullname, sys.exc_info())\n",
      "  File \"/usr/lib/python3.10/shutil.py\", line 678, in _rmtree_safe_fd\n",
      "    os.unlink(entry.name, dir_fd=topfd)\n",
      "FileNotFoundError: [Errno 2] No such file or directory: '385'\n",
      "ignoring exception in ensure_cleanup_on_exception\n",
      "Traceback (most recent call last):\n",
      "  File \"/home/filonov/playground/dask/.venv/lib/python3.10/site-packages/dask/dataframe/shuffle.py\", line 953, in ensure_cleanup_on_exception\n",
      "    yield\n",
      "  File \"/home/filonov/playground/dask/.venv/lib/python3.10/site-packages/dask/dataframe/shuffle.py\", line 968, in shuffle_group_3\n",
      "    p.append(d, fsync=True)\n",
      "  File \"/home/filonov/playground/dask/.venv/lib/python3.10/site-packages/partd/encode.py\", line 25, in append\n",
      "    self.partd.append(data, **kwargs)\n",
      "  File \"/home/filonov/playground/dask/.venv/lib/python3.10/site-packages/partd/buffer.py\", line 45, in append\n",
      "    self.flush(keys)\n",
      "  File \"/home/filonov/playground/dask/.venv/lib/python3.10/site-packages/partd/buffer.py\", line 99, in flush\n",
      "    self.slow.append(dict(zip(keys, self.fast.get(keys))))\n",
      "  File \"/home/filonov/playground/dask/.venv/lib/python3.10/site-packages/partd/file.py\", line 42, in append\n",
      "    f.write(v)\n",
      "OSError: [Errno 28] No space left on device\n",
      "\n",
      "During handling of the above exception, another exception occurred:\n",
      "\n",
      "Traceback (most recent call last):\n",
      "  File \"/home/filonov/playground/dask/.venv/lib/python3.10/site-packages/dask/dataframe/shuffle.py\", line 958, in ensure_cleanup_on_exception\n",
      "    p.drop()\n",
      "  File \"/home/filonov/playground/dask/.venv/lib/python3.10/site-packages/partd/encode.py\", line 39, in drop\n",
      "    return self.partd.drop()\n",
      "  File \"/home/filonov/playground/dask/.venv/lib/python3.10/site-packages/partd/buffer.py\", line 78, in drop\n",
      "    self.slow.drop()\n",
      "  File \"/home/filonov/playground/dask/.venv/lib/python3.10/site-packages/partd/file.py\", line 93, in drop\n",
      "    shutil.rmtree(self.path)\n",
      "  File \"/usr/lib/python3.10/shutil.py\", line 724, in rmtree\n",
      "    _rmtree_safe_fd(fd, path, onerror)\n",
      "  File \"/usr/lib/python3.10/shutil.py\", line 680, in _rmtree_safe_fd\n",
      "    onerror(os.unlink, fullname, sys.exc_info())\n",
      "  File \"/usr/lib/python3.10/shutil.py\", line 678, in _rmtree_safe_fd\n",
      "    os.unlink(entry.name, dir_fd=topfd)\n",
      "FileNotFoundError: [Errno 2] No such file or directory: '385'\n"
     ]
    },
    {
     "ename": "OSError",
     "evalue": "[Errno 28] No space left on device",
     "output_type": "error",
     "traceback": [
      "\u001b[0;31m---------------------------------------------------------------------------\u001b[0m",
      "\u001b[0;31mOSError\u001b[0m                                   Traceback (most recent call last)",
      "File \u001b[0;32m<timed exec>:8\u001b[0m, in \u001b[0;36m<module>\u001b[0;34m\u001b[0m\n",
      "File \u001b[0;32m~/playground/dask/.venv/lib/python3.10/site-packages/dask/dataframe/core.py:1257\u001b[0m, in \u001b[0;36m_Frame.head\u001b[0;34m(self, n, npartitions, compute)\u001b[0m\n\u001b[1;32m   1255\u001b[0m \u001b[39m# No need to warn if we're already looking at all partitions\u001b[39;00m\n\u001b[1;32m   1256\u001b[0m safe \u001b[39m=\u001b[39m npartitions \u001b[39m!=\u001b[39m \u001b[39mself\u001b[39m\u001b[39m.\u001b[39mnpartitions\n\u001b[0;32m-> 1257\u001b[0m \u001b[39mreturn\u001b[39;00m \u001b[39mself\u001b[39;49m\u001b[39m.\u001b[39;49m_head(n\u001b[39m=\u001b[39;49mn, npartitions\u001b[39m=\u001b[39;49mnpartitions, compute\u001b[39m=\u001b[39;49mcompute, safe\u001b[39m=\u001b[39;49msafe)\n",
      "File \u001b[0;32m~/playground/dask/.venv/lib/python3.10/site-packages/dask/dataframe/core.py:1291\u001b[0m, in \u001b[0;36m_Frame._head\u001b[0;34m(self, n, npartitions, compute, safe)\u001b[0m\n\u001b[1;32m   1286\u001b[0m result \u001b[39m=\u001b[39m new_dd_object(\n\u001b[1;32m   1287\u001b[0m     graph, name, \u001b[39mself\u001b[39m\u001b[39m.\u001b[39m_meta, [\u001b[39mself\u001b[39m\u001b[39m.\u001b[39mdivisions[\u001b[39m0\u001b[39m], \u001b[39mself\u001b[39m\u001b[39m.\u001b[39mdivisions[npartitions]]\n\u001b[1;32m   1288\u001b[0m )\n\u001b[1;32m   1290\u001b[0m \u001b[39mif\u001b[39;00m compute:\n\u001b[0;32m-> 1291\u001b[0m     result \u001b[39m=\u001b[39m result\u001b[39m.\u001b[39;49mcompute()\n\u001b[1;32m   1292\u001b[0m \u001b[39mreturn\u001b[39;00m result\n",
      "File \u001b[0;32m~/playground/dask/.venv/lib/python3.10/site-packages/dask/base.py:315\u001b[0m, in \u001b[0;36mDaskMethodsMixin.compute\u001b[0;34m(self, **kwargs)\u001b[0m\n\u001b[1;32m    291\u001b[0m \u001b[39mdef\u001b[39;00m \u001b[39mcompute\u001b[39m(\u001b[39mself\u001b[39m, \u001b[39m*\u001b[39m\u001b[39m*\u001b[39mkwargs):\n\u001b[1;32m    292\u001b[0m     \u001b[39m\"\"\"Compute this dask collection\u001b[39;00m\n\u001b[1;32m    293\u001b[0m \n\u001b[1;32m    294\u001b[0m \u001b[39m    This turns a lazy Dask collection into its in-memory equivalent.\u001b[39;00m\n\u001b[0;32m   (...)\u001b[0m\n\u001b[1;32m    313\u001b[0m \u001b[39m    dask.base.compute\u001b[39;00m\n\u001b[1;32m    314\u001b[0m \u001b[39m    \"\"\"\u001b[39;00m\n\u001b[0;32m--> 315\u001b[0m     (result,) \u001b[39m=\u001b[39m compute(\u001b[39mself\u001b[39;49m, traverse\u001b[39m=\u001b[39;49m\u001b[39mFalse\u001b[39;49;00m, \u001b[39m*\u001b[39;49m\u001b[39m*\u001b[39;49mkwargs)\n\u001b[1;32m    316\u001b[0m     \u001b[39mreturn\u001b[39;00m result\n",
      "File \u001b[0;32m~/playground/dask/.venv/lib/python3.10/site-packages/dask/base.py:598\u001b[0m, in \u001b[0;36mcompute\u001b[0;34m(traverse, optimize_graph, scheduler, get, *args, **kwargs)\u001b[0m\n\u001b[1;32m    595\u001b[0m     keys\u001b[39m.\u001b[39mappend(x\u001b[39m.\u001b[39m__dask_keys__())\n\u001b[1;32m    596\u001b[0m     postcomputes\u001b[39m.\u001b[39mappend(x\u001b[39m.\u001b[39m__dask_postcompute__())\n\u001b[0;32m--> 598\u001b[0m results \u001b[39m=\u001b[39m schedule(dsk, keys, \u001b[39m*\u001b[39;49m\u001b[39m*\u001b[39;49mkwargs)\n\u001b[1;32m    599\u001b[0m \u001b[39mreturn\u001b[39;00m repack([f(r, \u001b[39m*\u001b[39ma) \u001b[39mfor\u001b[39;00m r, (f, a) \u001b[39min\u001b[39;00m \u001b[39mzip\u001b[39m(results, postcomputes)])\n",
      "File \u001b[0;32m~/playground/dask/.venv/lib/python3.10/site-packages/dask/threaded.py:89\u001b[0m, in \u001b[0;36mget\u001b[0;34m(dsk, keys, cache, num_workers, pool, **kwargs)\u001b[0m\n\u001b[1;32m     86\u001b[0m     \u001b[39melif\u001b[39;00m \u001b[39misinstance\u001b[39m(pool, multiprocessing\u001b[39m.\u001b[39mpool\u001b[39m.\u001b[39mPool):\n\u001b[1;32m     87\u001b[0m         pool \u001b[39m=\u001b[39m MultiprocessingPoolExecutor(pool)\n\u001b[0;32m---> 89\u001b[0m results \u001b[39m=\u001b[39m get_async(\n\u001b[1;32m     90\u001b[0m     pool\u001b[39m.\u001b[39;49msubmit,\n\u001b[1;32m     91\u001b[0m     pool\u001b[39m.\u001b[39;49m_max_workers,\n\u001b[1;32m     92\u001b[0m     dsk,\n\u001b[1;32m     93\u001b[0m     keys,\n\u001b[1;32m     94\u001b[0m     cache\u001b[39m=\u001b[39;49mcache,\n\u001b[1;32m     95\u001b[0m     get_id\u001b[39m=\u001b[39;49m_thread_get_id,\n\u001b[1;32m     96\u001b[0m     pack_exception\u001b[39m=\u001b[39;49mpack_exception,\n\u001b[1;32m     97\u001b[0m     \u001b[39m*\u001b[39;49m\u001b[39m*\u001b[39;49mkwargs,\n\u001b[1;32m     98\u001b[0m )\n\u001b[1;32m    100\u001b[0m \u001b[39m# Cleanup pools associated to dead threads\u001b[39;00m\n\u001b[1;32m    101\u001b[0m \u001b[39mwith\u001b[39;00m pools_lock:\n",
      "File \u001b[0;32m~/playground/dask/.venv/lib/python3.10/site-packages/dask/local.py:511\u001b[0m, in \u001b[0;36mget_async\u001b[0;34m(submit, num_workers, dsk, result, cache, get_id, rerun_exceptions_locally, pack_exception, raise_exception, callbacks, dumps, loads, chunksize, **kwargs)\u001b[0m\n\u001b[1;32m    509\u001b[0m         _execute_task(task, data)  \u001b[39m# Re-execute locally\u001b[39;00m\n\u001b[1;32m    510\u001b[0m     \u001b[39melse\u001b[39;00m:\n\u001b[0;32m--> 511\u001b[0m         raise_exception(exc, tb)\n\u001b[1;32m    512\u001b[0m res, worker_id \u001b[39m=\u001b[39m loads(res_info)\n\u001b[1;32m    513\u001b[0m state[\u001b[39m\"\u001b[39m\u001b[39mcache\u001b[39m\u001b[39m\"\u001b[39m][key] \u001b[39m=\u001b[39m res\n",
      "File \u001b[0;32m~/playground/dask/.venv/lib/python3.10/site-packages/dask/local.py:319\u001b[0m, in \u001b[0;36mreraise\u001b[0;34m(exc, tb)\u001b[0m\n\u001b[1;32m    317\u001b[0m \u001b[39mif\u001b[39;00m exc\u001b[39m.\u001b[39m__traceback__ \u001b[39mis\u001b[39;00m \u001b[39mnot\u001b[39;00m tb:\n\u001b[1;32m    318\u001b[0m     \u001b[39mraise\u001b[39;00m exc\u001b[39m.\u001b[39mwith_traceback(tb)\n\u001b[0;32m--> 319\u001b[0m \u001b[39mraise\u001b[39;00m exc\n",
      "File \u001b[0;32m~/playground/dask/.venv/lib/python3.10/site-packages/dask/local.py:224\u001b[0m, in \u001b[0;36mexecute_task\u001b[0;34m(key, task_info, dumps, loads, get_id, pack_exception)\u001b[0m\n\u001b[1;32m    222\u001b[0m \u001b[39mtry\u001b[39;00m:\n\u001b[1;32m    223\u001b[0m     task, data \u001b[39m=\u001b[39m loads(task_info)\n\u001b[0;32m--> 224\u001b[0m     result \u001b[39m=\u001b[39m _execute_task(task, data)\n\u001b[1;32m    225\u001b[0m     \u001b[39mid\u001b[39m \u001b[39m=\u001b[39m get_id()\n\u001b[1;32m    226\u001b[0m     result \u001b[39m=\u001b[39m dumps((result, \u001b[39mid\u001b[39m))\n",
      "File \u001b[0;32m~/playground/dask/.venv/lib/python3.10/site-packages/dask/core.py:119\u001b[0m, in \u001b[0;36m_execute_task\u001b[0;34m(arg, cache, dsk)\u001b[0m\n\u001b[1;32m    115\u001b[0m     func, args \u001b[39m=\u001b[39m arg[\u001b[39m0\u001b[39m], arg[\u001b[39m1\u001b[39m:]\n\u001b[1;32m    116\u001b[0m     \u001b[39m# Note: Don't assign the subtask results to a variable. numpy detects\u001b[39;00m\n\u001b[1;32m    117\u001b[0m     \u001b[39m# temporaries by their reference count and can execute certain\u001b[39;00m\n\u001b[1;32m    118\u001b[0m     \u001b[39m# operations in-place.\u001b[39;00m\n\u001b[0;32m--> 119\u001b[0m     \u001b[39mreturn\u001b[39;00m func(\u001b[39m*\u001b[39;49m(_execute_task(a, cache) \u001b[39mfor\u001b[39;49;00m a \u001b[39min\u001b[39;49;00m args))\n\u001b[1;32m    120\u001b[0m \u001b[39melif\u001b[39;00m \u001b[39mnot\u001b[39;00m ishashable(arg):\n\u001b[1;32m    121\u001b[0m     \u001b[39mreturn\u001b[39;00m arg\n",
      "File \u001b[0;32m~/playground/dask/.venv/lib/python3.10/site-packages/dask/dataframe/shuffle.py:968\u001b[0m, in \u001b[0;36mshuffle_group_3\u001b[0;34m(df, col, npartitions, p)\u001b[0m\n\u001b[1;32m    966\u001b[0m g \u001b[39m=\u001b[39m df\u001b[39m.\u001b[39mgroupby(col)\n\u001b[1;32m    967\u001b[0m d \u001b[39m=\u001b[39m {i: g\u001b[39m.\u001b[39mget_group(i) \u001b[39mfor\u001b[39;00m i \u001b[39min\u001b[39;00m g\u001b[39m.\u001b[39mgroups}\n\u001b[0;32m--> 968\u001b[0m p\u001b[39m.\u001b[39;49mappend(d, fsync\u001b[39m=\u001b[39;49m\u001b[39mTrue\u001b[39;49;00m)\n",
      "File \u001b[0;32m~/playground/dask/.venv/lib/python3.10/site-packages/partd/encode.py:25\u001b[0m, in \u001b[0;36mEncode.append\u001b[0;34m(self, data, **kwargs)\u001b[0m\n\u001b[1;32m     23\u001b[0m data \u001b[39m=\u001b[39m valmap(\u001b[39mself\u001b[39m\u001b[39m.\u001b[39mencode, data)\n\u001b[1;32m     24\u001b[0m data \u001b[39m=\u001b[39m valmap(frame, data)\n\u001b[0;32m---> 25\u001b[0m \u001b[39mself\u001b[39;49m\u001b[39m.\u001b[39;49mpartd\u001b[39m.\u001b[39;49mappend(data, \u001b[39m*\u001b[39;49m\u001b[39m*\u001b[39;49mkwargs)\n",
      "File \u001b[0;32m~/playground/dask/.venv/lib/python3.10/site-packages/partd/buffer.py:45\u001b[0m, in \u001b[0;36mBuffer.append\u001b[0;34m(self, data, lock, **kwargs)\u001b[0m\n\u001b[1;32m     43\u001b[0m     \u001b[39mwhile\u001b[39;00m \u001b[39mself\u001b[39m\u001b[39m.\u001b[39mmemory_usage \u001b[39m>\u001b[39m \u001b[39mself\u001b[39m\u001b[39m.\u001b[39mavailable_memory:\n\u001b[1;32m     44\u001b[0m         keys \u001b[39m=\u001b[39m keys_to_flush(\u001b[39mself\u001b[39m\u001b[39m.\u001b[39mlengths, \u001b[39m0.1\u001b[39m, maxcount\u001b[39m=\u001b[39m\u001b[39m20\u001b[39m)\n\u001b[0;32m---> 45\u001b[0m         \u001b[39mself\u001b[39;49m\u001b[39m.\u001b[39;49mflush(keys)\n\u001b[1;32m     47\u001b[0m \u001b[39mfinally\u001b[39;00m:\n\u001b[1;32m     48\u001b[0m     \u001b[39mif\u001b[39;00m lock: \u001b[39mself\u001b[39m\u001b[39m.\u001b[39mlock\u001b[39m.\u001b[39mrelease()\n",
      "File \u001b[0;32m~/playground/dask/.venv/lib/python3.10/site-packages/partd/buffer.py:99\u001b[0m, in \u001b[0;36mBuffer.flush\u001b[0;34m(self, keys, block)\u001b[0m\n\u001b[1;32m     96\u001b[0m \u001b[39mif\u001b[39;00m keys \u001b[39mis\u001b[39;00m \u001b[39mNone\u001b[39;00m:\n\u001b[1;32m     97\u001b[0m     keys \u001b[39m=\u001b[39m \u001b[39mlist\u001b[39m(\u001b[39mself\u001b[39m\u001b[39m.\u001b[39mlengths)\n\u001b[0;32m---> 99\u001b[0m \u001b[39mself\u001b[39;49m\u001b[39m.\u001b[39;49mslow\u001b[39m.\u001b[39;49mappend(\u001b[39mdict\u001b[39;49m(\u001b[39mzip\u001b[39;49m(keys, \u001b[39mself\u001b[39;49m\u001b[39m.\u001b[39;49mfast\u001b[39m.\u001b[39;49mget(keys))))\n\u001b[1;32m    100\u001b[0m \u001b[39mself\u001b[39m\u001b[39m.\u001b[39mfast\u001b[39m.\u001b[39mdelete(keys)\n\u001b[1;32m    102\u001b[0m \u001b[39mfor\u001b[39;00m key \u001b[39min\u001b[39;00m keys:\n",
      "File \u001b[0;32m~/playground/dask/.venv/lib/python3.10/site-packages/partd/file.py:42\u001b[0m, in \u001b[0;36mFile.append\u001b[0;34m(self, data, lock, fsync, **kwargs)\u001b[0m\n\u001b[1;32m     40\u001b[0m     os\u001b[39m.\u001b[39mmakedirs(os\u001b[39m.\u001b[39mpath\u001b[39m.\u001b[39mdirname(fn))\n\u001b[1;32m     41\u001b[0m \u001b[39mwith\u001b[39;00m \u001b[39mopen\u001b[39m(fn, \u001b[39m'\u001b[39m\u001b[39mab\u001b[39m\u001b[39m'\u001b[39m) \u001b[39mas\u001b[39;00m f:\n\u001b[0;32m---> 42\u001b[0m     f\u001b[39m.\u001b[39;49mwrite(v)\n\u001b[1;32m     43\u001b[0m     \u001b[39mif\u001b[39;00m fsync:\n\u001b[1;32m     44\u001b[0m         os\u001b[39m.\u001b[39mfsync(f)\n",
      "\u001b[0;31mOSError\u001b[0m: [Errno 28] No space left on device"
     ]
    }
   ],
   "source": [
    "%%time\n",
    "query_3 = (rankings\n",
    "    .merge(uservisits[\n",
    "              (uservisits.visitDate > \"1980-01-01\")\n",
    "            & (uservisits.visitDate < \"1980-04-01\")\n",
    "           ],\n",
    "           left_on=\"pageURL\",\n",
    "           right_on=\"destinationURL\",\n",
    "           how=\"left\",\n",
    "    )\n",
    "    .groupby(\"sourceIP\")\n",
    "    .agg({\"pageRank\": \"mean\", \"adRevenue\": \"sum\"})\n",
    "    .sort_values(\"adRevenue\", ascending=False)\n",
    "    .head(1)\n",
    ")\n",
    "query_3.compute()"
   ]
  },
  {
   "cell_type": "code",
   "execution_count": null,
   "metadata": {},
   "outputs": [],
   "source": []
  }
 ],
 "metadata": {
  "kernelspec": {
   "display_name": "Python 3.10.2 ('.venv': venv)",
   "language": "python",
   "name": "python3"
  },
  "language_info": {
   "codemirror_mode": {
    "name": "ipython",
    "version": 3
   },
   "file_extension": ".py",
   "mimetype": "text/x-python",
   "name": "python",
   "nbconvert_exporter": "python",
   "pygments_lexer": "ipython3",
   "version": "3.10.6"
  },
  "orig_nbformat": 4,
  "vscode": {
   "interpreter": {
    "hash": "6aceeae404724938feb16c7fd05a82c5682315be0779b7392a4f1d0a8eadc933"
   }
  }
 },
 "nbformat": 4,
 "nbformat_minor": 2
}
