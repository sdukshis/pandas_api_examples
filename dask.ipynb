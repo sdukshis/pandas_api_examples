{
 "cells": [
  {
   "cell_type": "code",
   "execution_count": null,
   "metadata": {},
   "outputs": [],
   "source": [
    "import dask\n",
    "import numpy as np"
   ]
  },
  {
   "cell_type": "code",
   "execution_count": null,
   "metadata": {},
   "outputs": [],
   "source": [
    "# from dask.distributed import Client\n",
    "\n",
    "# client = Client(n_workers=8)\n",
    "# client"
   ]
  },
  {
   "cell_type": "code",
   "execution_count": null,
   "metadata": {},
   "outputs": [],
   "source": [
    "import dask.dataframe as dd\n",
    "\n",
    "rankings = dd.read_csv(\n",
    "    \"data/AMPLab/1node/rankings/*.csv\",\n",
    "    header=None,\n",
    "    names=[\"pageURL\", \"pageRank\", \"avgDuration\"],\n",
    ")\n",
    "rankings.info()"
   ]
  },
  {
   "cell_type": "code",
   "execution_count": null,
   "metadata": {},
   "outputs": [],
   "source": [
    "%%time\n",
    "query_1 = rankings[rankings.pageRank > 1000]\n",
    "len(query_1)"
   ]
  },
  {
   "cell_type": "code",
   "execution_count": null,
   "metadata": {},
   "outputs": [],
   "source": [
    "uservisits = dd.read_csv(\n",
    "    \"data/AMPLab/1node/uservisits/*.csv\",\n",
    "    header=None,\n",
    "    names=[\"sourceIP\", \"destinationURL\", \"visitDate\", \"adRevenue\", \"UserAgent\", \"cCode\", \"lCode\", \"searchWord\", \"duration\"],\n",
    "    parse_dates=[\"visitDate\"],\n",
    ")\n",
    "uservisits.info()"
   ]
  },
  {
   "cell_type": "code",
   "execution_count": null,
   "metadata": {},
   "outputs": [],
   "source": [
    "%%time\n",
    "query_2 = (\n",
    "    uservisits\n",
    "        .groupby(uservisits.sourceIP.str.slice(0, 7))\n",
    "        .adRevenue\n",
    "        .sum()\n",
    ")\n",
    "query_2.compute()"
   ]
  },
  {
   "cell_type": "code",
   "execution_count": null,
   "metadata": {},
   "outputs": [],
   "source": [
    "%%time\n",
    "query_3 = (rankings\n",
    "    .merge(uservisits[\n",
    "              (uservisits.visitDate > \"1980-01-01\")\n",
    "            & (uservisits.visitDate < \"1980-04-01\")\n",
    "           ],\n",
    "           left_on=\"pageURL\",\n",
    "           right_on=\"destinationURL\",\n",
    "           how=\"left\",\n",
    "    )\n",
    "    .groupby(\"sourceIP\")\n",
    "    .agg({\"pageRank\": \"mean\", \"adRevenue\": \"sum\"})\n",
    "    .sort_values(\"adRevenue\", ascending=False)\n",
    "    .head(1)\n",
    ")\n",
    "query_3.compute()"
   ]
  },
  {
   "cell_type": "code",
   "execution_count": null,
   "metadata": {},
   "outputs": [],
   "source": []
  }
 ],
 "metadata": {
  "kernelspec": {
   "display_name": "Python 3.10.2 ('.venv': venv)",
   "language": "python",
   "name": "python3"
  },
  "language_info": {
   "codemirror_mode": {
    "name": "ipython",
    "version": 3
   },
   "file_extension": ".py",
   "mimetype": "text/x-python",
   "name": "python",
   "nbconvert_exporter": "python",
   "pygments_lexer": "ipython3",
   "version": "3.10.6"
  },
  "orig_nbformat": 4,
  "vscode": {
   "interpreter": {
    "hash": "6aceeae404724938feb16c7fd05a82c5682315be0779b7392a4f1d0a8eadc933"
   }
  }
 },
 "nbformat": 4,
 "nbformat_minor": 2
}
